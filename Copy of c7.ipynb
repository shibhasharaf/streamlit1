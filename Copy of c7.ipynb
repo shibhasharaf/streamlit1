{
 "cells": [
  {
   "cell_type": "code",
   "execution_count": 16,
   "id": "d4c5cb51",
   "metadata": {},
   "outputs": [],
   "source": [
    "import pickle\n",
    "import streamlit as st\n",
    "import pandas as pd\n",
    "import numpy as np\n",
    "from sklearn.preprocessing import StandardScaler, OneHotEncoder\n",
    "from sklearn.tree import DecisionTreeClassifier\n",
    "\n",
    "filename = 'decision_tree_model_covid.pkl'\n",
    "with open(filename, 'rb') as file:\n",
    "    loaded_model = pickle.load(file)\n",
    "\n",
    "st.title('Covid-19 Psychological Effects Prediction App')\n",
    "st.subheader('Please enter your data:')\n",
    "\n",
    "df = pd.read_csv('covid_preprocessed_data.csv')\n",
    "columns_list = df.columns.to_list()\n",
    "\n",
    "uploaded_file = st.file_uploader(\"Upload CSV file\", type=[\"csv\"])\n",
    "\n",
    "if uploaded_file is not None:\n",
    "    df = pd.read_csv(uploaded_file)\n",
    "\n",
    "    numerical_columns = df.select_dtypes(include=['int64', 'float64']).columns\n",
    "    object_columns = df.select_dtypes(include=['object']).columns\n",
    "\n",
    "    age_mapping = {'19-25': 22, 'Dec-18': 18, '33-40': 36.5, '60+': 65, '26-32': 29, '40-50': 45,\n",
    "                   '50-60': 55}\n",
    "    df['age'] = df['age'].map(age_mapping)\n",
    "\n",
    "    numerical_transformer = StandardScaler()\n",
    "    categorical_transformer = OneHotEncoder(handle_unknown='ignore')\n",
    "\n",
    "    df_numerical = pd.DataFrame(numerical_transformer.fit_transform(df[numerical_columns]), columns=numerical_columns)\n",
    "    df_categorical = pd.get_dummies(df[object_columns], columns=object_columns)\n",
    "    \n",
    "    df_preprocessed = pd.concat([df_numerical, df_categorical], axis=1)\n",
    "    \n",
    "    df_preprocessed = df_preprocessed.reindex(columns=columns_list, fill_value=0)\n",
    "\n",
    "    prediction = loaded_model.predict(df_preprocessed)\n",
    "    prediction_text = np.where(prediction == 1, 'Yes', 'No')\n",
    "    st.subheader('Lifestyle Change:')\n",
    "    st.write(prediction_text)"
   ]
  },
  {
   "cell_type": "markdown",
   "id": "4e8beddb",
   "metadata": {},
   "source": []
  },
  {
   "cell_type": "code",
   "execution_count": null,
   "id": "b47b7fb7",
   "metadata": {},
   "outputs": [],
   "source": []
  }
 ],
 "metadata": {
  "kernelspec": {
   "display_name": "Python 3",
   "language": "python",
   "name": "python3"
  },
  "language_info": {
   "codemirror_mode": {
    "name": "ipython",
    "version": 3
   },
   "file_extension": ".py",
   "mimetype": "text/x-python",
   "name": "python",
   "nbconvert_exporter": "python",
   "pygments_lexer": "ipython3",
   "version": "3.13.0"
  }
 },
 "nbformat": 4,
 "nbformat_minor": 5
}
